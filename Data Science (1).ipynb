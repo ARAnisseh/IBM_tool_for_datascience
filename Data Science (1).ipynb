{
  "cells": [
    {
      "cell_type": "markdown",
      "source": [
        "Notebook"
      ],
      "metadata": {
        "id": "Sk47Sqgg6033"
      },
      "id": "Sk47Sqgg6033"
    },
    {
      "cell_type": "markdown",
      "id": "4bed55f9-9c89-44c7-9adb-b9f0b5ff46a7",
      "metadata": {
        "id": "4bed55f9-9c89-44c7-9adb-b9f0b5ff46a7"
      },
      "source": [
        "In this notebook, Data Science Tools and Ecosystem are summarized."
      ]
    },
    {
      "cell_type": "markdown",
      "id": "61ab638b-c928-4dd1-a446-70dc25b662e0",
      "metadata": {
        "id": "61ab638b-c928-4dd1-a446-70dc25b662e0"
      },
      "source": [
        "**Objectives:**"
      ]
    },
    {
      "cell_type": "markdown",
      "id": "fecc3807-8ff2-463b-b35d-305a987df981",
      "metadata": {
        "id": "fecc3807-8ff2-463b-b35d-305a987df981"
      },
      "source": [
        "+ List popular languages for Data Science\n",
        "+ List popular libraries for Data Science\n",
        "+ List popular tools for Data Science\n",
        "+ Creating simple arithmetic expression"
      ]
    },
    {
      "cell_type": "markdown",
      "id": "f9428b65-cc9b-46dc-ba03-299645262b27",
      "metadata": {
        "id": "f9428b65-cc9b-46dc-ba03-299645262b27"
      },
      "source": [
        "Some of the popular languages that Data Scientists use are:\n",
        "\n",
        "1. Python\n",
        "2. SQL\n",
        "3. R\n"
      ]
    },
    {
      "cell_type": "markdown",
      "id": "4e78729e-262d-4dcf-a1ab-abf5e8ff539a",
      "metadata": {
        "id": "4e78729e-262d-4dcf-a1ab-abf5e8ff539a"
      },
      "source": [
        "Some of the commonly used libraries used by Data Scientists include:\n",
        "\n",
        "1. Numpy\n",
        "2. Ggplot\n",
        "3. Pandas"
      ]
    },
    {
      "cell_type": "markdown",
      "id": "237b7067-8ea6-4fc5-b903-3e00ecbd64b8",
      "metadata": {
        "tags": [],
        "id": "237b7067-8ea6-4fc5-b903-3e00ecbd64b8"
      },
      "source": [
        "Data Science Tools |\n",
        "-------------------\n",
        "Github\n",
        "Apache\n",
        "TensorFlow\n"
      ]
    },
    {
      "cell_type": "markdown",
      "id": "4e78e6cd-85c8-4b1e-bdc2-a6e6b12604c7",
      "metadata": {
        "id": "4e78e6cd-85c8-4b1e-bdc2-a6e6b12604c7"
      },
      "source": [
        "Below are a few examples of evaluating arithmetic expressions in Python"
      ]
    },
    {
      "cell_type": "code",
      "execution_count": null,
      "id": "1fcdaebf-d76c-453f-be56-25cc5e78022b",
      "metadata": {
        "tags": [],
        "id": "1fcdaebf-d76c-453f-be56-25cc5e78022b",
        "outputId": "e92bec54-a7f7-478b-9b1c-6e4bbb174a6e"
      },
      "outputs": [
        {
          "data": {
            "text/plain": [
              "17"
            ]
          },
          "execution_count": 11,
          "metadata": {},
          "output_type": "execute_result"
        }
      ],
      "source": [
        "# This a simple arithmetic expression to mutiply then add integers\n",
        "(3*4)+5"
      ]
    },
    {
      "cell_type": "code",
      "execution_count": null,
      "id": "27aaecd5-e189-48fa-994b-e881f984673e",
      "metadata": {
        "tags": [],
        "id": "27aaecd5-e189-48fa-994b-e881f984673e",
        "outputId": "bf564de7-4b42-4f10-b2ce-5c29dbeac65e"
      },
      "outputs": [
        {
          "data": {
            "text/plain": [
              "3.3333333333333335"
            ]
          },
          "execution_count": 19,
          "metadata": {},
          "output_type": "execute_result"
        }
      ],
      "source": [
        "# This will convert 200 minutes to hours by diving by 60\n",
        "x = 200\n",
        "hours_calc = x / 60\n",
        "hours_calc"
      ]
    },
    {
      "cell_type": "markdown",
      "id": "177eb9e3-97f6-430a-a20d-67ba7c1d9b4d",
      "metadata": {
        "id": "177eb9e3-97f6-430a-a20d-67ba7c1d9b4d"
      },
      "source": [
        "## Author"
      ]
    },
    {
      "cell_type": "markdown",
      "id": "7ff5ab61-03bb-40e1-9137-fcc5fe17313e",
      "metadata": {
        "id": "7ff5ab61-03bb-40e1-9137-fcc5fe17313e"
      },
      "source": [
        "Alireza Anisseh"
      ]
    }
  ],
  "metadata": {
    "kernelspec": {
      "display_name": "Python",
      "language": "python",
      "name": "conda-env-python-py"
    },
    "language_info": {
      "codemirror_mode": {
        "name": "ipython",
        "version": 3
      },
      "file_extension": ".py",
      "mimetype": "text/x-python",
      "name": "python",
      "nbconvert_exporter": "python",
      "pygments_lexer": "ipython3",
      "version": "3.7.12"
    },
    "colab": {
      "provenance": []
    }
  },
  "nbformat": 4,
  "nbformat_minor": 5
}