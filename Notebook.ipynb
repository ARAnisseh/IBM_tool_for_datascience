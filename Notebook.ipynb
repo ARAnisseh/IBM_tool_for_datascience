Note Book

In this notebook, Data Science Tools and Ecosystem are summarized.

Objectives:

List popular languages for Data Science
List popular libraries for Data Science
List popular tools for Data Science
Creating simple arithmetic expression
Some of the popular languages that Data Scientists use are:

Python
SQL
R
Some of the commonly used libraries used by Data Scientists include:

Numpy
Ggplot
Pandas
Data Science Tools |
Github Apache TensorFlow

Below are a few examples of evaluating arithmetic expressions in Python

[ ]
12
# This a simple arithmetic expression to mutiply then add integers
(3*4)+5
account_circle
17
[ ]
1234
# This will convert 200 minutes to hours by diving by 60
x = 200
hours_calc = x / 60
hours_calc
account_circle
3.3333333333333335
Author
Alireza Anisseh
