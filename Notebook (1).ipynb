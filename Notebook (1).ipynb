{
  "nbformat": 4,
  "nbformat_minor": 0,
  "metadata": {
    "colab": {
      "provenance": []
    },
    "kernelspec": {
      "name": "python3",
      "display_name": "Python 3"
    },
    "language_info": {
      "name": "python"
    }
  },
  "cells": [
    {
      "cell_type": "markdown",
      "source": [
        "notebopk"
      ],
      "metadata": {
        "id": "LH4yVmRq0uzR"
      }
    },
    {
      "cell_type": "markdown",
      "source": [
        "introduction"
      ],
      "metadata": {
        "id": "aDJaAJVH065b"
      }
    },
    {
      "cell_type": "markdown",
      "source": [
        "science languages"
      ],
      "metadata": {
        "id": "pKgc3SJh06nd"
      }
    },
    {
      "cell_type": "markdown",
      "source": [
        "science libraries"
      ],
      "metadata": {
        "id": "qBS9sGOh06ZY"
      }
    },
    {
      "cell_type": "markdown",
      "source": [
        "sciecne tools"
      ],
      "metadata": {
        "id": "DroI9erD06K_"
      }
    },
    {
      "cell_type": "markdown",
      "source": [
        "introducint arithmatic examples"
      ],
      "metadata": {
        "id": "K--ocRuV03tS"
      }
    },
    {
      "cell_type": "code",
      "source": [
        "1+3\n",
        "2*2"
      ],
      "metadata": {
        "colab": {
          "base_uri": "https://localhost:8080/"
        },
        "id": "nayoF3UZ1Oq2",
        "outputId": "ee301dbb-18c6-432e-832f-9c96ed18e965"
      },
      "execution_count": 3,
      "outputs": [
        {
          "output_type": "execute_result",
          "data": {
            "text/plain": [
              "4"
            ]
          },
          "metadata": {},
          "execution_count": 3
        }
      ]
    },
    {
      "cell_type": "code",
      "source": [
        "minutes = 850\n",
        "hours = minutes/60"
      ],
      "metadata": {
        "id": "TgYZdViG1T_p"
      },
      "execution_count": 5,
      "outputs": []
    },
    {
      "cell_type": "markdown",
      "source": [
        "list objectives"
      ],
      "metadata": {
        "id": "w2exzRvQ1y9G"
      }
    },
    {
      "cell_type": "markdown",
      "source": [
        "Alireza Anisseh"
      ],
      "metadata": {
        "id": "QB8bJaw42Mcq"
      }
    }
  ]
}