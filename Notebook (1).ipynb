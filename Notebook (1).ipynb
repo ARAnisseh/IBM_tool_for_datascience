{
  "cells": [
    {
      "cell_type": "markdown",
      "metadata": {
        "id": "LH4yVmRq0uzR"
      },
      "source": [
        "notebopk"
      ]
    },
    {
      "cell_type": "markdown",
      "metadata": {
        "id": "aDJaAJVH065b"
      },
      "source": [
        "introduction"
      ]
    },
    {
      "cell_type": "markdown",
      "metadata": {
        "id": "pKgc3SJh06nd"
      },
      "source": [
        "science languages"
      ]
    },
    {
      "cell_type": "markdown",
      "metadata": {
        "id": "qBS9sGOh06ZY"
      },
      "source": [
        "science libraries"
      ]
    },
    {
      "cell_type": "markdown",
      "metadata": {
        "id": "DroI9erD06K_"
      },
      "source": [
        "sciecne tools"
      ]
    },
    {
      "cell_type": "markdown",
      "metadata": {
        "id": "K--ocRuV03tS"
      },
      "source": [
        "introducint arithmatic examples"
      ]
    },
    {
      "cell_type": "code",
      "execution_count": 3,
      "metadata": {
        "colab": {
          "base_uri": "https://localhost:8080/"
        },
        "id": "nayoF3UZ1Oq2",
        "outputId": "ee301dbb-18c6-432e-832f-9c96ed18e965"
      },
      "outputs": [
        {
          "data": {
            "text/plain": [
              "4"
            ]
          },
          "execution_count": 3,
          "metadata": {},
          "output_type": "execute_result"
        }
      ],
      "source": [
        "1+3\n",
        "2*2"
      ]
    },
    {
      "cell_type": "code",
      "execution_count": 5,
      "metadata": {
        "id": "TgYZdViG1T_p"
      },
      "outputs": [],
      "source": [
        "minutes = 850\n",
        "hours = minutes/60"
      ]
    },
    {
      "cell_type": "markdown",
      "metadata": {
        "id": "w2exzRvQ1y9G"
      },
      "source": [
        "list objectives"
      ]
    },
    {
      "cell_type": "markdown",
      "metadata": {
        "id": "QB8bJaw42Mcq"
      },
      "source": [
        "Alireza Anisseh"
      ]
    }
  ],
  "metadata": {
    "colab": {
      "provenance": []
    },
    "kernelspec": {
      "display_name": "Python 3",
      "name": "python3"
    },
    "language_info": {
      "name": "python"
    }
  },
  "nbformat": 4,
  "nbformat_minor": 0
}
